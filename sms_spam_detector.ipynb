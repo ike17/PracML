{
  "nbformat": 4,
  "nbformat_minor": 0,
  "metadata": {
    "colab": {
      "provenance": [],
      "authorship_tag": "ABX9TyMKiCXIKh4epO29zpFx82E6",
      "include_colab_link": true
    },
    "kernelspec": {
      "name": "python3",
      "display_name": "Python 3"
    },
    "language_info": {
      "name": "python"
    }
  },
  "cells": [
    {
      "cell_type": "markdown",
      "metadata": {
        "id": "view-in-github",
        "colab_type": "text"
      },
      "source": [
        "<a href=\"https://colab.research.google.com/github/ike17/PracML/blob/main/sms_spam_detector.ipynb\" target=\"_parent\"><img src=\"https://colab.research.google.com/assets/colab-badge.svg\" alt=\"Open In Colab\"/></a>"
      ]
    },
    {
      "cell_type": "code",
      "execution_count": 1,
      "metadata": {
        "id": "8OQkr42OHlMz"
      },
      "outputs": [],
      "source": [
        "import numpy as np\n",
        "import pandas as pd\n",
        "import matplotlib.pyplot as plt\n",
        "import seaborn as sns\n",
        "import sklearn\n",
        "import tensorflow as tf\n",
        "import string"
      ]
    },
    {
      "cell_type": "code",
      "source": [
        "df = pd.read_csv(\"sample_data/SMSSpamCollection\", sep=\"\\t\")"
      ],
      "metadata": {
        "id": "SAQBhRYlIFVQ"
      },
      "execution_count": 2,
      "outputs": []
    },
    {
      "cell_type": "code",
      "source": [
        "df.columns = [\"label\", \"message\"]\n",
        "\n",
        "mapping_dict = {\"ham\": 0, \"spam\": 1}\n",
        "df[\"label\"] = df[\"label\"].map(mapping_dict)"
      ],
      "metadata": {
        "id": "7vE8mzJpRj58"
      },
      "execution_count": 3,
      "outputs": []
    },
    {
      "cell_type": "code",
      "source": [
        "df['message_length'] = df['message'].str.len()\n",
        "df['punctuation_count'] = df['message'].str.count(f'[{string.punctuation}]')\n",
        "df['capital_letter_count'] = df['message'].str.count('[A-Z]')\n",
        "\n",
        "print(df.head())"
      ],
      "metadata": {
        "id": "0zTJw-2NI3gH"
      },
      "execution_count": null,
      "outputs": []
    },
    {
      "cell_type": "code",
      "source": [
        "df = df.assign(\n",
        "    message_length=lambda x: x['message'].str.len(),\n",
        "    punctuation_count=lambda x: x['message'].str.count(f'[{string.punctuation}]'),\n",
        "    capital_letter_count=lambda x: x['message'].str.count('[A-Z]')\n",
        ")\n",
        "\n",
        "print(df.head())"
      ],
      "metadata": {
        "colab": {
          "base_uri": "https://localhost:8080/"
        },
        "collapsed": true,
        "id": "PfL082AfJBlm",
        "outputId": "839108a4-6786-42a7-a384-27aeb3e49277"
      },
      "execution_count": 14,
      "outputs": [
        {
          "output_type": "stream",
          "name": "stdout",
          "text": [
            "   label                                            message  message_length  \\\n",
            "0      0                      Ok lar... Joking wif u oni...              29   \n",
            "1      1  Free entry in 2 a wkly comp to win FA Cup fina...             155   \n",
            "2      0  U dun say so early hor... U c already then say...              49   \n",
            "3      0  Nah I don't think he goes to usf, he lives aro...              61   \n",
            "4      1  FreeMsg Hey there darling it's been 3 week's n...             147   \n",
            "\n",
            "   punctuation_count  capital_letter_count  \n",
            "0                  6                     2  \n",
            "1                  6                    10  \n",
            "2                  6                     2  \n",
            "3                  2                     2  \n",
            "4                  8                     7  \n"
          ]
        }
      ]
    },
    {
      "cell_type": "code",
      "source": [
        "numeric_features = ['message_length', 'punctuation_count', 'capital_letter_count']\n",
        "\n",
        "print(df.groupby('label')[numeric_features].mean())\n",
        "print(df.groupby('label')[numeric_features].std())"
      ],
      "metadata": {
        "colab": {
          "base_uri": "https://localhost:8080/"
        },
        "id": "PkUudbRdQDsX",
        "outputId": "273e9441-82ee-412f-b313-6e0228748787"
      },
      "execution_count": 15,
      "outputs": [
        {
          "output_type": "stream",
          "name": "stdout",
          "text": [
            "       message_length  punctuation_count  capital_letter_count\n",
            "label                                                         \n",
            "0           71.474295           3.938018              4.099502\n",
            "1          138.670683           5.712182             15.469880\n",
            "       message_length  punctuation_count  capital_letter_count\n",
            "label                                                         \n",
            "0           58.443940           4.733899             10.851879\n",
            "1           28.873603           3.460834             12.305760\n"
          ]
        }
      ]
    }
  ]
}